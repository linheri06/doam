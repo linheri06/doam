{
 "cells": [
  {
   "cell_type": "code",
   "execution_count": 1,
   "metadata": {},
   "outputs": [
    {
     "ename": "ModuleNotFoundError",
     "evalue": "No module named 'torch'",
     "output_type": "error",
     "traceback": [
      "\u001b[1;31m---------------------------------------------------------------------------\u001b[0m",
      "\u001b[1;31mModuleNotFoundError\u001b[0m                       Traceback (most recent call last)",
      "Cell \u001b[1;32mIn[1], line 1\u001b[0m\n\u001b[1;32m----> 1\u001b[0m \u001b[38;5;28;01mimport\u001b[39;00m \u001b[38;5;21;01mtorch\u001b[39;00m\n\u001b[0;32m      2\u001b[0m \u001b[38;5;28mprint\u001b[39m(torch\u001b[38;5;241m.\u001b[39mcuda\u001b[38;5;241m.\u001b[39mis_available())\t\t \u001b[38;5;66;03m# 查看GPu设备是否可用\u001b[39;00m\n\u001b[0;32m      3\u001b[0m \u001b[38;5;28mprint\u001b[39m(torch\u001b[38;5;241m.\u001b[39mcuda\u001b[38;5;241m.\u001b[39mdevice_count()) \t\t\u001b[38;5;66;03m# 查看GPu设备数量\u001b[39;00m\n",
      "\u001b[1;31mModuleNotFoundError\u001b[0m: No module named 'torch'"
     ]
    }
   ],
   "source": [
    "import torch\n",
    "print(torch.cuda.is_available())\t\t # 查看GPu设备是否可用\n",
    "print(torch.cuda.device_count()) \t\t# 查看GPu设备数量\n",
    "print(torch.cuda.get_device_name())   \t# 查看当前GPu设备名称，默认设备id从0开始\n",
    "print(torch.cuda.current_device())\t\t# 查看当前GPu设备id\n"
   ]
  },
  {
   "cell_type": "code",
   "execution_count": 1,
   "metadata": {},
   "outputs": [
    {
     "name": "stdout",
     "output_type": "stream",
     "text": [
      "Args in experiment:\n",
      "{'target': 'luuluongden', 'des': 'Exp', 'dropout': 0.05, 'num_workers': 10, 'gpu': 0, 'lradj': 'type1', 'devices': '0', 'use_gpu': True, 'use_multi_gpu': False, 'freq': 'h', 'checkpoints': './checkpoints/', 'bucket_size': 4, 'n_hashes': 4, 'seq_len': 4, 'label_len': 4, 'pred_len': 1, 'e_layers': 2, 'd_layers': 1, 'n_heads': 8, 'factor': 1, 'd_model': 512, 'itr': 1, 'd_ff': 2048, 'moving_avg': 25, 'distil': True, 'output_attention': False, 'patience': 3, 'learning_rate': 0.0001, 'batch_size': 32, 'embed': 'timeF', 'activation': 'gelu', 'use_amp': False, 'loss': 'mse', 'train_epochs': 2, 'is_training': True, 'enc_in': 5, 'dec_in': 5, 'c_out': 5, 'root_path': './dataset/', 'data_path': 'Data_TaTrach.csv', 'model_id': 'TaTrach_96_24', 'model': 'Informer', 'data': 'custom', 'features': 'MS'}\n"
     ]
    }
   ],
   "source": [
    "import argparse\n",
    "import os\n",
    "import torch\n",
    "from exp.exp_main import Exp_Main#exp stands for experiments\n",
    "import random\n",
    "import numpy as np\n",
    "from utils.tools import dotdict\n",
    "\n",
    "# fix_seed = 2021 \n",
    "# random.seed(fix_seed)\n",
    "# torch.manual_seed(fix_seed)\n",
    "# np.random.seed(fix_seed)\n",
    "\n",
    "parser = argparse.ArgumentParser(description='Autoformer & Transformer family for Time Series Forecasting')\n",
    "\n",
    "# basic config\n",
    "parser.add_argument('--is_training', type=int, required=True, default=1, help='status')\n",
    "parser.add_argument('--model_id', type=str, required=True, default='test', help='model id')#模型id\n",
    "parser.add_argument('--model', type=str, required=True, default='Autoformer',#选择模型\n",
    "                    help='model name, options: [Autoformer, Informer, Transformer]')\n",
    "\n",
    "# data loader\n",
    "parser.add_argument('--data', type=str, required=True, default='ETTm1', help='dataset type')#数据类型\n",
    "parser.add_argument('--root_path', type=str, default='./data/ETT/', help='root path of the data file')#数据文件夹路径\n",
    "parser.add_argument('--data_path', type=str, default='TaTrach.csv', help='data file')#具体文件\n",
    "parser.add_argument('--features', type=str, default='M',\n",
    "                    help='forecasting task, options:[M, S, MS]; M:multivariate predict multivariate, S:univariate predict univariate, MS:multivariate predict univariate')#预测类别\n",
    "parser.add_argument('--target', type=str, default='OT', help='target feature in S or MS task')#不太懂 OT好像代表Output Target,要预测的单变量\n",
    "parser.add_argument('--freq', type=str, default='h',\n",
    "                    help='freq for time features encoding, options:[s:secondly, t:minutely, h:hourly, d:daily, b:business days, w:weekly, m:monthly], you can also use more detailed freq like 15min or 3h')\n",
    "parser.add_argument('--checkpoints', type=str, default='./checkpoints/', help='location of model checkpoints')#保存模型\n",
    "\n",
    "# forecasting task\n",
    "parser.add_argument('--seq_len', type=int, default=96, help='input sequence length')#输入序列长度\n",
    "parser.add_argument('--label_len', type=int, default=48, help='start token length')#这个label_len未完全搞懂\n",
    "parser.add_argument('--pred_len', type=int, default=24, help='prediction sequence length')#输出序列长度\n",
    "\n",
    "# model define\n",
    "parser.add_argument('--bucket_size', type=int, default=4, help='for Reformer')#Reformer专用属性\n",
    "parser.add_argument('--n_hashes', type=int, default=4, help='for Reformer')#Reformer专用属性\n",
    "parser.add_argument('--enc_in', type=int, default=7, help='encoder input size')#encoder input size\n",
    "parser.add_argument('--dec_in', type=int, default=7, help='decoder input size')#decoder input size\n",
    "parser.add_argument('--c_out', type=int, default=7, help='output size')#输出长度\n",
    "parser.add_argument('--d_model', type=int, default=512, help='dimension of model')#dimension of model\n",
    "parser.add_argument('--n_heads', type=int, default=8, help='num of heads')#num of heads \n",
    "parser.add_argument('--e_layers', type=int, default=2, help='num of encoder layers')#num of encoder layers\n",
    "parser.add_argument('--d_layers', type=int, default=1, help='num of decoder layers')#num of decoder layers\n",
    "parser.add_argument('--d_ff', type=int, default=2048, help='dimension of fcn')#dimension of fcn\n",
    "parser.add_argument('--moving_avg', type=int, default=25, help='window size of moving average')#窗口滑动平均数\n",
    "parser.add_argument('--factor', type=int, default=1, help='attn factor')#attn factor不太理解\n",
    "parser.add_argument('--distil', action='store_false',\n",
    "                    help='whether to use distilling in encoder, using this argument means not using distilling',\n",
    "                    default=True)#是否在encoder里面使用知识蒸馏\n",
    "parser.add_argument('--dropout', type=float, default=0.05, help='dropout')#dropout\n",
    "parser.add_argument('--embed', type=str, default='timeF',\n",
    "                    help='time features encoding, options:[timeF, fixed, learned]')#time features encoding不太能get到\n",
    "parser.add_argument('--activation', type=str, default='gelu', help='activation')#激活函数default=gelu\n",
    "parser.add_argument('--output_attention', action='store_true', help='whether to output attention in encoder')#encoder的output_attention是否输出\n",
    "parser.add_argument('--do_predict', action='store_true', help='whether to predict unseen future data')#是否预测未见的未来数据,也就是是否进行推理的意思\n",
    "\n",
    "# optimization\n",
    "parser.add_argument('--num_workers', type=int, default=10, help='data loader num workers')# num_workers是加载数据(batch)的线程数目\n",
    "parser.add_argument('--itr', type=int, default=2, help='experiments times')#实验次数\n",
    "parser.add_argument('--train_epochs', type=int, default=10, help='train epochs')#就是epoch\n",
    "parser.add_argument('--batch_size', type=int, default=32, help='batch size of train input data')#bathsize\n",
    "parser.add_argument('--patience', type=int, default=3, help='early stopping patience')#patience: 当early stop被激活(如发现loss相比上一个epoch训练没有下降)，则经过patience个epoch后停止训练\n",
    "parser.add_argument('--learning_rate', type=float, default=0.0001, help='optimizer learning rate')#lr\n",
    "parser.add_argument('--des', type=str, default='test', help='exp description')#test\n",
    "parser.add_argument('--loss', type=str, default='mse', help='loss function')#loss is mse\n",
    "parser.add_argument('--lradj', type=str, default='type1', help='adjust learning rate')#adjust learning-rate\n",
    "parser.add_argument('--use_amp', action='store_true', help='use automatic mixed precision training', default=False)#使用自动混合精度训练\n",
    "\n",
    "# GPU\n",
    "parser.add_argument('--use_gpu', type=bool, default=True, help='use gpu')\n",
    "parser.add_argument('--gpu', type=int, default=0, help='gpu')\n",
    "parser.add_argument('--use_multi_gpu', action='store_true', help='use multiple gpus', default=False)\n",
    "parser.add_argument('--devices', type=str, default='0,1,2,3', help='device ids of multile gpus')\n",
    "\n",
    "# args = parser.parse_args()\n",
    "args = dotdict()\n",
    "args.target = 'OT'\n",
    "args.des = 'test'\n",
    "args.dropout = 0.05\n",
    "args.num_workers = 10\n",
    "args.gpu = 0\n",
    "args.lradj = 'type1'\n",
    "args.devices = '0'\n",
    "args.use_gpu = True\n",
    "args.use_multi_gpu = False\n",
    "# if args.use_gpu and args.use_multi_gpu: #是否使用多卡的判断\n",
    "#     args.dvices = args.devices.replace(' ', '')\n",
    "#     device_ids = args.devices.split(',')\n",
    "#     args.device_ids = [int(id_) for id_ in device_ids]\n",
    "#     args.gpu = args.device_ids[0]\n",
    "args.freq = 'h'\n",
    "args.checkpoints = './checkpoints/'\n",
    "args.bucket_size = 4\n",
    "args.n_hashes = 4\n",
    "args.seq_len = 4\n",
    "args.label_len = 4\n",
    "args.pred_len = 1\n",
    "args.e_layers = 2\n",
    "args.d_layers = 1\n",
    "args.n_heads = 8\n",
    "args.factor = 1\n",
    "args.d_model = 512\n",
    "args.des = 'Exp'\n",
    "args.itr = 1\n",
    "args.d_ff = 2048\n",
    "args.moving_avg = 25\n",
    "args.distil = True\n",
    "args.output_attention = False\n",
    "args.patience= 3\n",
    "args.learning_rate = 0.0001\n",
    "args.batch_size = 32 \n",
    "args.embed = 'timeF'\n",
    "args.activation = 'gelu'\n",
    "args.use_amp = False\n",
    "args.loss = 'mse'\n",
    "\n",
    "args.train_epochs = 2\n",
    "args.is_training = True\n",
    "args.enc_in = 5\n",
    "args.dec_in = 5\n",
    "args.c_out = 5\n",
    "args.target = \"luuluongden\"\n",
    "args.root_path = './dataset/'\n",
    "args.data_path ='Data_TaTrach.csv' \n",
    "args.model_id='TaTrach_96_24'\n",
    "# args.model = 'Autoformer'\n",
    "args.model = 'Informer'\n",
    "args.data = 'custom'\n",
    "args.features = 'MS'\n",
    "\n",
    "print('Args in experiment:')\n",
    "print(args)\n",
    "\n",
    "\n",
    "\n",
    "Exp = Exp_Main\n"
   ]
  },
  {
   "cell_type": "code",
   "execution_count": 2,
   "metadata": {},
   "outputs": [
    {
     "name": "stdout",
     "output_type": "stream",
     "text": [
      "Use GPU: cuda:0\n",
      ">>>>>>>start training : TaTrach_96_24_Informer_custom_ftMS_sl4_ll4_pl1_dm512_nh8_el2_dl1_df2048_fc1_ebtimeF_dtTrue_Exp_0>>>>>>>>>>>>>>>>>>>>>>>>>>\n",
      "train 38519\n",
      "val 5505\n",
      "test 11006\n",
      "\titers: 100, epoch: 1 | loss: 0.0264492\n",
      "\tspeed: 0.2628s/iter; left time: 606.2881s\n",
      "\titers: 200, epoch: 1 | loss: 0.0640357\n",
      "\tspeed: 0.0324s/iter; left time: 71.5891s\n",
      "\titers: 300, epoch: 1 | loss: 0.2790504\n",
      "\tspeed: 0.0317s/iter; left time: 66.7460s\n",
      "\titers: 400, epoch: 1 | loss: 0.0160619\n",
      "\tspeed: 0.0311s/iter; left time: 62.4886s\n",
      "\titers: 500, epoch: 1 | loss: 0.3001421\n",
      "\tspeed: 0.0319s/iter; left time: 60.8608s\n",
      "\titers: 600, epoch: 1 | loss: 0.0221572\n",
      "\tspeed: 0.0318s/iter; left time: 57.5041s\n",
      "\titers: 700, epoch: 1 | loss: 0.0172639\n",
      "\tspeed: 0.0299s/iter; left time: 50.9702s\n",
      "\titers: 800, epoch: 1 | loss: 0.0606139\n",
      "\tspeed: 0.0307s/iter; left time: 49.4101s\n",
      "\titers: 900, epoch: 1 | loss: 0.0488893\n",
      "\tspeed: 0.0319s/iter; left time: 48.0774s\n",
      "\titers: 1000, epoch: 1 | loss: 0.0189330\n",
      "\tspeed: 0.0302s/iter; left time: 42.4470s\n",
      "\titers: 1100, epoch: 1 | loss: 0.0165827\n",
      "\tspeed: 0.0308s/iter; left time: 40.2830s\n",
      "\titers: 1200, epoch: 1 | loss: 0.0238233\n",
      "\tspeed: 0.0320s/iter; left time: 38.6657s\n",
      "Epoch: 1 cost time: 61.55114960670471\n",
      "Epoch: 1, Steps: 1203 | Train Loss: 0.2497957 Vali Loss: 0.5729629 Test Loss: 0.7934171\n",
      "Validation loss decreased (inf --> 0.572963).  Saving model ...\n",
      "Updating learning rate to 0.0001\n",
      "\titers: 100, epoch: 2 | loss: 0.0343419\n",
      "\tspeed: 0.7170s/iter; left time: 791.5408s\n",
      "\titers: 200, epoch: 2 | loss: 0.0161898\n",
      "\tspeed: 0.0295s/iter; left time: 29.6609s\n",
      "\titers: 300, epoch: 2 | loss: 0.0839862\n",
      "\tspeed: 0.0293s/iter; left time: 26.4810s\n",
      "\titers: 400, epoch: 2 | loss: 0.0219961\n",
      "\tspeed: 0.0306s/iter; left time: 24.6380s\n",
      "\titers: 500, epoch: 2 | loss: 0.0144261\n",
      "\tspeed: 0.0290s/iter; left time: 20.4396s\n",
      "\titers: 600, epoch: 2 | loss: 0.0748222\n",
      "\tspeed: 0.0289s/iter; left time: 17.4575s\n",
      "\titers: 700, epoch: 2 | loss: 0.3358476\n",
      "\tspeed: 0.0291s/iter; left time: 14.6656s\n",
      "\titers: 800, epoch: 2 | loss: 0.1173683\n",
      "\tspeed: 0.0298s/iter; left time: 12.0253s\n",
      "\titers: 900, epoch: 2 | loss: 0.2954096\n",
      "\tspeed: 0.0320s/iter; left time: 9.7424s\n",
      "\titers: 1000, epoch: 2 | loss: 0.0086813\n",
      "\tspeed: 0.0309s/iter; left time: 6.3030s\n",
      "\titers: 1100, epoch: 2 | loss: 0.0213943\n",
      "\tspeed: 0.0297s/iter; left time: 3.0897s\n",
      "\titers: 1200, epoch: 2 | loss: 3.8985064\n",
      "\tspeed: 0.0301s/iter; left time: 0.1206s\n",
      "Epoch: 2 cost time: 56.93108510971069\n",
      "Epoch: 2, Steps: 1203 | Train Loss: 0.1672293 Vali Loss: 0.4472097 Test Loss: 0.7357830\n",
      "Validation loss decreased (0.572963 --> 0.447210).  Saving model ...\n",
      "Updating learning rate to 5e-05\n",
      ">>>>>>>testing : TaTrach_96_24_Informer_custom_ftMS_sl4_ll4_pl1_dm512_nh8_el2_dl1_df2048_fc1_ebtimeF_dtTrue_Exp_0<<<<<<<<<<<<<<<<<<<<<<<<<<<<<<<<<\n",
      "test 11006\n",
      "test shape: (11006, 1, 1) (11006, 1, 1)\n",
      "test shape: (11006, 1, 1) (11006, 1, 1)\n",
      "mse:0.7320324182510376, mae:0.24293091893196106, r2:0.7166529893875122\n"
     ]
    }
   ],
   "source": [
    "if args.is_training:\n",
    "  for ii in range(args.itr):\n",
    "      # setting record of experiments\n",
    "      setting = '{}_{}_{}_ft{}_sl{}_ll{}_pl{}_dm{}_nh{}_el{}_dl{}_df{}_fc{}_eb{}_dt{}_{}_{}'.format(\n",
    "          args.model_id,\n",
    "          args.model,\n",
    "          args.data,\n",
    "          args.features,\n",
    "          args.seq_len,\n",
    "          args.label_len,\n",
    "          args.pred_len,\n",
    "          args.d_model,\n",
    "          args.n_heads,\n",
    "          args.e_layers,\n",
    "          args.d_layers,\n",
    "          args.d_ff,\n",
    "          args.factor,\n",
    "          args.embed,\n",
    "          args.distil,\n",
    "          args.des, ii)\n",
    "\n",
    "      exp = Exp(args)  # set experiments\n",
    "      print('>>>>>>>start training : {}>>>>>>>>>>>>>>>>>>>>>>>>>>'.format(setting))\n",
    "      exp.train(setting)\n",
    "\n",
    "      print('>>>>>>>testing : {}<<<<<<<<<<<<<<<<<<<<<<<<<<<<<<<<<'.format(setting))\n",
    "      exp.test(setting)\n",
    "\n",
    "      if args.do_predict:\n",
    "          print('>>>>>>>predicting : {}<<<<<<<<<<<<<<<<<<<<<<<<<<<<<<<<<'.format(setting))\n",
    "          exp.predict(setting, True)\n",
    "\n",
    "      torch.cuda.empty_cache()\n",
    "else:\n",
    "  ii = 0\n",
    "  setting = '{}_{}_{}_ft{}_sl{}_ll{}_pl{}_dm{}_nh{}_el{}_dl{}_df{}_fc{}_eb{}_dt{}_{}_{}'.format(args.model_id,\n",
    "                                                                                                args.model,\n",
    "                                                                                                args.data,\n",
    "                                                                                                args.features,\n",
    "                                                                                                args.seq_len,\n",
    "                                                                                                args.label_len,\n",
    "                                                                                                args.pred_len,\n",
    "                                                                                                args.d_model,\n",
    "                                                                                                args.n_heads,\n",
    "                                                                                                args.e_layers,\n",
    "                                                                                                args.d_layers,\n",
    "                                                                                                args.d_ff,\n",
    "                                                                                                args.factor,\n",
    "                                                                                                args.embed,\n",
    "                                                                                                args.distil,\n",
    "                                                                                                args.des, ii)\n",
    "\n",
    "  exp = Exp(args)  # set experiments\n",
    "  print('>>>>>>>testing : {}<<<<<<<<<<<<<<<<<<<<<<<<<<<<<<<<<'.format(setting))\n",
    "  exp.test(setting, test=1)\n",
    "  torch.cuda.empty_cache()"
   ]
  },
  {
   "cell_type": "code",
   "execution_count": null,
   "metadata": {},
   "outputs": [
    {
     "name": "stdout",
     "output_type": "stream",
     "text": [
      "test 11006\n",
      "test shape: (11006, 1, 1) (11006, 1, 1)\n",
      "test shape: (11006, 1, 1) (11006, 1, 1)\n",
      "mse:0.18992836773395538, mae:0.13872060179710388, r2:0.9264846295118332\n"
     ]
    }
   ],
   "source": [
    "exp.test(setting)"
   ]
  },
  {
   "cell_type": "code",
   "execution_count": null,
   "metadata": {},
   "outputs": [],
   "source": [
    "import numpy as np\n",
    "\n",
    "setting = \"TaTrach_96_24_Autoformer_custom_ftMS_sl4_ll4_pl1_dm512_nh8_el2_dl1_df2048_fc1_ebtimeF_dtTrue_Exp_0\"\n",
    "\n",
    "pred_path = 'results/' + format(setting) + '/pred.npy'\n",
    "pred_data = np.load(pred_path)\n",
    "pred_data = pred_data.reshape(pred_data.shape[0])\n",
    "\n",
    "\n",
    "true_path = 'results/' + format(setting) + '/true.npy'\n",
    "true_data = np.load(true_path)\n",
    "true_data = true_data.reshape(true_data.shape[0])\n"
   ]
  },
  {
   "cell_type": "code",
   "execution_count": null,
   "metadata": {},
   "outputs": [
    {
     "data": {
      "image/png": "[encoded data removed]",
      "text/plain": [
       "<Figure size 2000x600 with 1 Axes>"
      ]
     },
     "metadata": {},
     "output_type": "display_data"
    }
   ],
   "source": [
    "from matplotlib import pyplot #vẽ biểu đồ\n",
    "\n",
    "pyplot.figure(figsize=(20,6))\n",
    "\n",
    "pyplot.plot(true_data, label='Actual Values')\n",
    "pyplot.plot(pred_data, label='Predicted LSTM')\n",
    "pyplot.title('Biểu đồ so sánh giữa giá trị thực tế và giá trị dự đoán')\n",
    "pyplot.xlabel('Time')\n",
    "pyplot.ylabel('Lưu Lượng')\n",
    "pyplot.legend()\n",
    "pyplot.show()"
   ]
  },
  {
   "cell_type": "code",
   "execution_count": 16,
   "metadata": {},
   "outputs": [
    {
     "name": "stdout",
     "output_type": "stream",
     "text": [
      "pred 1\n"
     ]
    },
    {
     "data": {
      "text/plain": [
       "array([[-0.13961663, -0.34535078, -0.12616195, -0.15095965, -0.2574459 ],\n",
       "       [-0.13961663, -0.34535078, -0.12616195, -0.15095965, -0.31524795],\n",
       "       [-0.13961663, -0.34535078, -0.12616195, -0.15095965, -0.32176381],\n",
       "       [-0.13961663, -0.34535078, -0.12616195, -0.15095965, -0.25749845]])"
      ]
     },
     "execution_count": 16,
     "metadata": {},
     "output_type": "execute_result"
    }
   ],
   "source": [
    "pred_data, pred_loader = exp._get_data(flag='pred')\n",
    "pred_data.data_x\n"
   ]
  },
  {
   "cell_type": "code",
   "execution_count": 18,
   "metadata": {},
   "outputs": [
    {
     "ename": "TypeError",
     "evalue": "inverse_transform() missing 1 required positional argument: 'data'",
     "output_type": "error",
     "traceback": [
      "\u001b[1;31m---------------------------------------------------------------------------\u001b[0m",
      "\u001b[1;31mTypeError\u001b[0m                                 Traceback (most recent call last)",
      "Cell \u001b[1;32mIn[18], line 1\u001b[0m\n\u001b[1;32m----> 1\u001b[0m \u001b[43mpred_data\u001b[49m\u001b[38;5;241;43m.\u001b[39;49m\u001b[43minverse_transform\u001b[49m\u001b[43m(\u001b[49m\u001b[43m)\u001b[49m\n",
      "\u001b[1;31mTypeError\u001b[0m: inverse_transform() missing 1 required positional argument: 'data'"
     ]
    }
   ],
   "source": [
    "pred_data.inverse_transform()"
   ]
  },
  {
   "cell_type": "code",
   "execution_count": null,
   "metadata": {},
   "outputs": [],
   "source": []
  }
 ],
 "metadata": {
  "kernelspec": {
   "display_name": "Python 3",
   "language": "python",
   "name": "python3"
  },
  "language_info": {
   "codemirror_mode": {
    "name": "ipython",
    "version": 3
   },
   "file_extension": ".py",
   "mimetype": "text/x-python",
   "name": "python",
   "nbconvert_exporter": "python",
   "pygments_lexer": "ipython3",
   "version": "3.11.2"
  }
 },
 "nbformat": 4,
 "nbformat_minor": 2
}
